{
  "nbformat": 4,
  "nbformat_minor": 0,
  "metadata": {
    "colab": {
      "provenance": []
    },
    "kernelspec": {
      "name": "python3",
      "display_name": "Python 3"
    },
    "language_info": {
      "name": "python"
    }
  },
  "cells": [
    {
      "cell_type": "code",
      "execution_count": 1,
      "metadata": {
        "id": "_VqvoHwgDWwk"
      },
      "outputs": [],
      "source": [
        "import numpy as np\n",
        "import tensorflow as tf\n",
        "from tensorflow.keras import datasets, layers, models\n",
        "from tensorflow.keras.utils import to_categorical"
      ]
    },
    {
      "cell_type": "markdown",
      "source": [
        "Loading dataset"
      ],
      "metadata": {
        "id": "54qRXcRGELEt"
      }
    },
    {
      "cell_type": "code",
      "source": [
        "(train_images, train_labels), (test_images, test_labels) = datasets.mnist.load_data()"
      ],
      "metadata": {
        "colab": {
          "base_uri": "https://localhost:8080/"
        },
        "id": "8_k-t4BQDjwQ",
        "outputId": "ea08f159-a300-46df-812c-da35146ca765"
      },
      "execution_count": 2,
      "outputs": [
        {
          "output_type": "stream",
          "name": "stdout",
          "text": [
            "Downloading data from https://storage.googleapis.com/tensorflow/tf-keras-datasets/mnist.npz\n",
            "\u001b[1m11490434/11490434\u001b[0m \u001b[32m━━━━━━━━━━━━━━━━━━━━\u001b[0m\u001b[37m\u001b[0m \u001b[1m1s\u001b[0m 0us/step\n"
          ]
        }
      ]
    },
    {
      "cell_type": "code",
      "source": [
        "# Normalizing pixel values to the range [0, 1]\n",
        "train_images = train_images / 255.0\n",
        "test_images = test_images / 255.0"
      ],
      "metadata": {
        "id": "aZ89pOh8DqFK"
      },
      "execution_count": 3,
      "outputs": []
    },
    {
      "cell_type": "code",
      "source": [
        "# Reshaping images to include channel dimension (28, 28, 1)\n",
        "train_images = train_images.reshape((train_images.shape[0], 28, 28, 1))\n",
        "test_images = test_images.reshape((test_images.shape[0], 28, 28, 1))"
      ],
      "metadata": {
        "id": "b4KPTlFyDtp7"
      },
      "execution_count": 4,
      "outputs": []
    },
    {
      "cell_type": "code",
      "source": [
        "# Converting labels to one-hot encoding\n",
        "train_labels = to_categorical(train_labels)\n",
        "test_labels = to_categorical(test_labels)"
      ],
      "metadata": {
        "id": "gIxjnn5TDv4j"
      },
      "execution_count": 5,
      "outputs": []
    },
    {
      "cell_type": "code",
      "source": [
        "model = models.Sequential()"
      ],
      "metadata": {
        "id": "KWcJVnjUDx7L"
      },
      "execution_count": 6,
      "outputs": []
    },
    {
      "cell_type": "code",
      "source": [
        "model.add(layers.Conv2D(32, (3, 3), activation='relu', input_shape=(28, 28, 1))) #First convolutional layer with 32 filters and 3x3 kernel size\n",
        "model.add(layers.MaxPooling2D((2, 2))) # First max pooling layer with 2x2 pool size\n",
        "\n",
        "model.add(layers.Conv2D(64, (3, 3), activation='relu')) # Second convolutional layer with 64 filters and 3x3 kernel size\n",
        "model.add(layers.MaxPooling2D((2, 2))) # Second max pooling layer with 2x2 pool size\n",
        "\n",
        "model.add(layers.Conv2D(128, (3, 3), activation='relu')) # Third convolutional layer with 128 filters and 3x3 kernel size\n",
        "model.add(layers.Conv2D(256, (3, 3), activation='relu')) # Fourth convolutional layer with 256 filters and 3x3 kernel size\n",
        "\n",
        "model.add(layers.Flatten()) # Flattening the output from the convolutional layers\n",
        "\n",
        "model.add(layers.Dense(128, activation='relu')) # First fully connected (dense) layer with 128 units\n",
        "model.add(layers.Dense(50, activation='relu')) # Second fully connected layer with 50 units\n",
        "model.add(layers.Dense(50, activation='relu')) # Third fully connected layer with 50 units\n",
        "\n",
        "model.add(layers.Dense(10, activation='softmax')) # Output layer with 10 units for classification (softmax activation)"
      ],
      "metadata": {
        "colab": {
          "base_uri": "https://localhost:8080/"
        },
        "id": "-t8GgVsID0RL",
        "outputId": "23d550f6-1724-4af8-d1e4-f27c98bd5cb9"
      },
      "execution_count": 7,
      "outputs": [
        {
          "output_type": "stream",
          "name": "stderr",
          "text": [
            "/usr/local/lib/python3.10/dist-packages/keras/src/layers/convolutional/base_conv.py:107: UserWarning: Do not pass an `input_shape`/`input_dim` argument to a layer. When using Sequential models, prefer using an `Input(shape)` object as the first layer in the model instead.\n",
            "  super().__init__(activity_regularizer=activity_regularizer, **kwargs)\n"
          ]
        }
      ]
    },
    {
      "cell_type": "code",
      "source": [
        "model.compile(optimizer='adam',  loss='categorical_crossentropy',  metrics=['accuracy']) # compiling the model"
      ],
      "metadata": {
        "id": "jcIdhc2zE1XG"
      },
      "execution_count": 8,
      "outputs": []
    },
    {
      "cell_type": "code",
      "source": [
        "model.fit(train_images, train_labels, epochs=10, batch_size=64, validation_split=0.2) #training the model"
      ],
      "metadata": {
        "colab": {
          "base_uri": "https://localhost:8080/"
        },
        "id": "kKZ1-nMoE-gE",
        "outputId": "5fb42326-5f41-4d11-cd0b-3dedc103b6cd"
      },
      "execution_count": 9,
      "outputs": [
        {
          "output_type": "stream",
          "name": "stdout",
          "text": [
            "Epoch 1/10\n",
            "\u001b[1m750/750\u001b[0m \u001b[32m━━━━━━━━━━━━━━━━━━━━\u001b[0m\u001b[37m\u001b[0m \u001b[1m81s\u001b[0m 103ms/step - accuracy: 0.8201 - loss: 0.5359 - val_accuracy: 0.9812 - val_loss: 0.0647\n",
            "Epoch 2/10\n",
            "\u001b[1m750/750\u001b[0m \u001b[32m━━━━━━━━━━━━━━━━━━━━\u001b[0m\u001b[37m\u001b[0m \u001b[1m82s\u001b[0m 109ms/step - accuracy: 0.9827 - loss: 0.0599 - val_accuracy: 0.9859 - val_loss: 0.0476\n",
            "Epoch 3/10\n",
            "\u001b[1m750/750\u001b[0m \u001b[32m━━━━━━━━━━━━━━━━━━━━\u001b[0m\u001b[37m\u001b[0m \u001b[1m77s\u001b[0m 103ms/step - accuracy: 0.9876 - loss: 0.0394 - val_accuracy: 0.9811 - val_loss: 0.0645\n",
            "Epoch 4/10\n",
            "\u001b[1m750/750\u001b[0m \u001b[32m━━━━━━━━━━━━━━━━━━━━\u001b[0m\u001b[37m\u001b[0m \u001b[1m77s\u001b[0m 103ms/step - accuracy: 0.9900 - loss: 0.0306 - val_accuracy: 0.9875 - val_loss: 0.0446\n",
            "Epoch 5/10\n",
            "\u001b[1m750/750\u001b[0m \u001b[32m━━━━━━━━━━━━━━━━━━━━\u001b[0m\u001b[37m\u001b[0m \u001b[1m82s\u001b[0m 104ms/step - accuracy: 0.9928 - loss: 0.0247 - val_accuracy: 0.9858 - val_loss: 0.0515\n",
            "Epoch 6/10\n",
            "\u001b[1m750/750\u001b[0m \u001b[32m━━━━━━━━━━━━━━━━━━━━\u001b[0m\u001b[37m\u001b[0m \u001b[1m82s\u001b[0m 104ms/step - accuracy: 0.9939 - loss: 0.0190 - val_accuracy: 0.9859 - val_loss: 0.0580\n",
            "Epoch 7/10\n",
            "\u001b[1m750/750\u001b[0m \u001b[32m━━━━━━━━━━━━━━━━━━━━\u001b[0m\u001b[37m\u001b[0m \u001b[1m81s\u001b[0m 103ms/step - accuracy: 0.9939 - loss: 0.0190 - val_accuracy: 0.9886 - val_loss: 0.0483\n",
            "Epoch 8/10\n",
            "\u001b[1m750/750\u001b[0m \u001b[32m━━━━━━━━━━━━━━━━━━━━\u001b[0m\u001b[37m\u001b[0m \u001b[1m82s\u001b[0m 102ms/step - accuracy: 0.9960 - loss: 0.0134 - val_accuracy: 0.9869 - val_loss: 0.0491\n",
            "Epoch 9/10\n",
            "\u001b[1m750/750\u001b[0m \u001b[32m━━━━━━━━━━━━━━━━━━━━\u001b[0m\u001b[37m\u001b[0m \u001b[1m85s\u001b[0m 107ms/step - accuracy: 0.9956 - loss: 0.0143 - val_accuracy: 0.9912 - val_loss: 0.0390\n",
            "Epoch 10/10\n",
            "\u001b[1m750/750\u001b[0m \u001b[32m━━━━━━━━━━━━━━━━━━━━\u001b[0m\u001b[37m\u001b[0m \u001b[1m77s\u001b[0m 102ms/step - accuracy: 0.9968 - loss: 0.0100 - val_accuracy: 0.9892 - val_loss: 0.0424\n"
          ]
        },
        {
          "output_type": "execute_result",
          "data": {
            "text/plain": [
              "<keras.src.callbacks.history.History at 0x7fe84934b400>"
            ]
          },
          "metadata": {},
          "execution_count": 9
        }
      ]
    },
    {
      "cell_type": "code",
      "source": [
        "test_loss, test_acc = model.evaluate(test_images, test_labels) # 5. Evaluating the model on the test set"
      ],
      "metadata": {
        "colab": {
          "base_uri": "https://localhost:8080/"
        },
        "id": "nDOE2cPEIJBM",
        "outputId": "6d710be2-21d8-4368-8a30-8ed9ba76d1b0"
      },
      "execution_count": 10,
      "outputs": [
        {
          "output_type": "stream",
          "name": "stdout",
          "text": [
            "\u001b[1m313/313\u001b[0m \u001b[32m━━━━━━━━━━━━━━━━━━━━\u001b[0m\u001b[37m\u001b[0m \u001b[1m5s\u001b[0m 17ms/step - accuracy: 0.9901 - loss: 0.0359\n"
          ]
        }
      ]
    },
    {
      "cell_type": "code",
      "source": [
        "print(f\"Test accuracy: {test_acc * 100:.2f}%\")"
      ],
      "metadata": {
        "colab": {
          "base_uri": "https://localhost:8080/"
        },
        "id": "UXCJRJZNIRss",
        "outputId": "6725b0d1-0cdf-4d20-a3a1-d65aac293bd3"
      },
      "execution_count": 11,
      "outputs": [
        {
          "output_type": "stream",
          "name": "stdout",
          "text": [
            "Test accuracy: 99.24%\n"
          ]
        }
      ]
    },
    {
      "cell_type": "code",
      "source": [
        "import numpy as np\n",
        "from sklearn.metrics import confusion_matrix, classification_report\n",
        "import seaborn as sns\n",
        "import matplotlib.pyplot as plt\n",
        "\n",
        "# Generating predictions and converting one-hot true labels back to integers\n",
        "predicted_classes = np.argmax(model.predict(test_images), axis=1)\n",
        "true_classes = np.argmax(test_labels, axis=1)\n",
        "\n",
        "# Confusion Matrix\n",
        "conf_matrix = confusion_matrix(true_classes, predicted_classes)\n",
        "sns.heatmap(conf_matrix, annot=True, fmt='d', cmap='Blues')\n",
        "plt.xlabel('Predicted')\n",
        "plt.ylabel('True')\n",
        "plt.show()\n",
        "\n",
        "# Classification Report\n",
        "print(classification_report(true_classes, predicted_classes, digits=4))"
      ],
      "metadata": {
        "colab": {
          "base_uri": "https://localhost:8080/",
          "height": 761
        },
        "id": "DP11BWMGKDfE",
        "outputId": "34ffad24-c2e3-4eb4-f23a-bebe9e48d331"
      },
      "execution_count": 13,
      "outputs": [
        {
          "output_type": "stream",
          "name": "stdout",
          "text": [
            "\u001b[1m313/313\u001b[0m \u001b[32m━━━━━━━━━━━━━━━━━━━━\u001b[0m\u001b[37m\u001b[0m \u001b[1m9s\u001b[0m 30ms/step\n"
          ]
        },
        {
          "output_type": "display_data",
          "data": {
            "text/plain": [
              "<Figure size 640x480 with 2 Axes>"
            ],
            "image/png": "[encoded data removed]"
          },
          "metadata": {}
        },
        {
          "output_type": "stream",
          "name": "stdout",
          "text": [
            "              precision    recall  f1-score   support\n",
            "\n",
            "           0     0.9959    0.9888    0.9923       980\n",
            "           1     0.9938    0.9956    0.9947      1135\n",
            "           2     0.9932    0.9913    0.9922      1032\n",
            "           3     0.9960    0.9931    0.9945      1010\n",
            "           4     0.9959    0.9959    0.9959       982\n",
            "           5     0.9867    0.9955    0.9911       892\n",
            "           6     0.9835    0.9948    0.9891       958\n",
            "           7     0.9902    0.9874    0.9888      1028\n",
            "           8     0.9959    0.9928    0.9943       974\n",
            "           9     0.9920    0.9891    0.9906      1009\n",
            "\n",
            "    accuracy                         0.9924     10000\n",
            "   macro avg     0.9923    0.9924    0.9924     10000\n",
            "weighted avg     0.9924    0.9924    0.9924     10000\n",
            "\n"
          ]
        }
      ]
    }
  ]
}